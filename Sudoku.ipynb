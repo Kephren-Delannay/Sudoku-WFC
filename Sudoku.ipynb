{
 "cells": [
  {
   "cell_type": "code",
   "execution_count": 2,
   "metadata": {
    "collapsed": true,
    "ExecuteTime": {
     "end_time": "2023-06-05T15:42:31.060260900Z",
     "start_time": "2023-06-05T15:42:31.054737100Z"
    }
   },
   "outputs": [],
   "source": [
    "import random\n",
    "import pandas as pd\n",
    "import numpy as np"
   ]
  },
  {
   "cell_type": "markdown",
   "source": [
    "# Creation of the tile class\n",
    "This class will be used to represent a cell in the grid and is responsible to hold information of the available options, if the cell has collapsed already and the value chosen iof applicable"
   ],
   "metadata": {
    "collapsed": false
   }
  },
  {
   "cell_type": "code",
   "execution_count": 103,
   "outputs": [],
   "source": [
    "class Tile:\n",
    "    options = []\n",
    "    collapsed = False\n",
    "    value = None\n",
    "    position = ()\n",
    "\n",
    "    def __init__(self, y, x):\n",
    "        self.options = [i for i in range(1, 10)] # set options for a cell from 1 to 9\n",
    "        self.collapsed = False\n",
    "        self.value = None\n",
    "        self.position = (y, x)\n",
    "\n",
    "    def setValue(self, v):\n",
    "        self.value = v\n",
    "        self.collapsed = True\n",
    "\n",
    "    def getEnthropy(self):\n",
    "        return len(self.options)\n",
    "\n",
    "    def __str__(self):\n",
    "        return f'tile {self.position} \\n' \\\n",
    "               f'options : {[i for i in self.options]} \\n' \\\n",
    "               f'value : {self.value} \\n' \\\n",
    "               f'collapsed : {self.collapsed} \\n'\n",
    "\n",
    "    def __le__(self, other):\n",
    "        return self.getEnthropy() < other.getEnthropy()\n",
    "\n",
    "    def __eq__(self, other):\n",
    "        return self.getEnthropy() == other.getEnthropy()\n",
    "\n",
    "    def __gt__(self, other):\n",
    "        return self.getEnthropy() > other.getEnthropy()\n"
   ],
   "metadata": {
    "collapsed": false,
    "ExecuteTime": {
     "end_time": "2023-06-05T17:24:59.355528Z",
     "start_time": "2023-06-05T17:24:59.340903500Z"
    }
   }
  },
  {
   "cell_type": "markdown",
   "source": [
    "# Creation of the grid"
   ],
   "metadata": {
    "collapsed": false
   }
  },
  {
   "cell_type": "code",
   "execution_count": 104,
   "outputs": [],
   "source": [
    "grid = np.empty(shape=(9,9), dtype=Tile)\n",
    "for y in range(9):\n",
    "    for x in range(9):\n",
    "        grid[y, x] = Tile(y, x)\n"
   ],
   "metadata": {
    "collapsed": false,
    "ExecuteTime": {
     "end_time": "2023-06-05T17:24:59.650255500Z",
     "start_time": "2023-06-05T17:24:59.636097400Z"
    }
   }
  },
  {
   "cell_type": "markdown",
   "source": [
    "# System to display the sudoku grid"
   ],
   "metadata": {
    "collapsed": false
   }
  },
  {
   "cell_type": "code",
   "execution_count": 105,
   "outputs": [],
   "source": [
    "def displayGrid(target):\n",
    "    display = \"\"\n",
    "    for y in range(9):\n",
    "        for x in range(9):\n",
    "            display += (\" \" + str(target[y, x].value) + \" \")\n",
    "        display += \"\\n\"\n",
    "    print(display)\n"
   ],
   "metadata": {
    "collapsed": false,
    "ExecuteTime": {
     "end_time": "2023-06-05T17:24:59.929811900Z",
     "start_time": "2023-06-05T17:24:59.923788500Z"
    }
   }
  },
  {
   "cell_type": "code",
   "execution_count": 106,
   "outputs": [],
   "source": [
    "def validateGrid(target):\n",
    "    for i in range(9):\n",
    "        try:\n",
    "            row_sum = sum([t.value for t in grid[i, :]])\n",
    "            col_sum = sum([t.value for t in grid[:, i]])\n",
    "        except TypeError:\n",
    "            return False\n",
    "        if row_sum != 45 or col_sum != 45:\n",
    "            return False\n",
    "    return True\n"
   ],
   "metadata": {
    "collapsed": false,
    "ExecuteTime": {
     "end_time": "2023-06-05T17:25:00.106671400Z",
     "start_time": "2023-06-05T17:25:00.100530900Z"
    }
   }
  },
  {
   "cell_type": "code",
   "execution_count": 107,
   "outputs": [
    {
     "name": "stdout",
     "output_type": "stream",
     "text": [
      " None  None  None  None  None  None  None  None  None \n",
      " None  None  None  None  None  None  None  None  None \n",
      " None  None  None  None  None  None  None  None  None \n",
      " None  None  None  None  None  None  None  None  None \n",
      " None  None  None  None  None  None  None  None  None \n",
      " None  None  None  None  None  None  None  None  None \n",
      " None  None  None  None  None  None  None  None  None \n",
      " None  None  None  None  None  None  None  None  None \n",
      " None  None  None  None  None  None  None  None  None \n",
      "\n"
     ]
    },
    {
     "data": {
      "text/plain": "False"
     },
     "execution_count": 107,
     "metadata": {},
     "output_type": "execute_result"
    }
   ],
   "source": [
    "displayGrid(grid)\n",
    "validateGrid(grid)"
   ],
   "metadata": {
    "collapsed": false,
    "ExecuteTime": {
     "end_time": "2023-06-05T17:25:00.245673Z",
     "start_time": "2023-06-05T17:25:00.234826Z"
    }
   }
  },
  {
   "cell_type": "markdown",
   "source": [
    "# Algorithm\n",
    "We create functions for the algorithm\n",
    "- Function to select cell with lowest enthropy\n",
    "- Function to collapse a cell\n",
    "- Function to propagate changes"
   ],
   "metadata": {
    "collapsed": false
   }
  },
  {
   "cell_type": "code",
   "execution_count": 156,
   "outputs": [
    {
     "data": {
      "text/plain": "array([<__main__.Tile object at 0x000002A880AF8D90>,\n       <__main__.Tile object at 0x000002A880AF8850>,\n       <__main__.Tile object at 0x000002A880AFBE80>,\n       <__main__.Tile object at 0x000002A880AFAE00>,\n       <__main__.Tile object at 0x000002A880AF9180>,\n       <__main__.Tile object at 0x000002A880AF8E80>,\n       <__main__.Tile object at 0x000002A880AFB3A0>,\n       <__main__.Tile object at 0x000002A880AF8CD0>,\n       <__main__.Tile object at 0x000002A880AF84F0>,\n       <__main__.Tile object at 0x000002A880AF8670>,\n       <__main__.Tile object at 0x000002A880AFA440>,\n       <__main__.Tile object at 0x000002A880AF9840>,\n       <__main__.Tile object at 0x000002A880AF9450>,\n       <__main__.Tile object at 0x000002A880AFA8F0>,\n       <__main__.Tile object at 0x000002A880AF92A0>,\n       <__main__.Tile object at 0x000002A880AF8640>,\n       <__main__.Tile object at 0x000002A880AF80A0>,\n       <__main__.Tile object at 0x000002A880AF8BE0>,\n       <__main__.Tile object at 0x000002A880AFBCA0>,\n       <__main__.Tile object at 0x000002A880AF91B0>,\n       <__main__.Tile object at 0x000002A880AF8EB0>,\n       <__main__.Tile object at 0x000002A880AF8E20>,\n       <__main__.Tile object at 0x000002A880AFA620>,\n       <__main__.Tile object at 0x000002A880AF9BD0>,\n       <__main__.Tile object at 0x000002A880AFB010>,\n       <__main__.Tile object at 0x000002A880AFA9B0>,\n       <__main__.Tile object at 0x000002A880AFA920>,\n       <__main__.Tile object at 0x000002A880AFADA0>,\n       <__main__.Tile object at 0x000002A880AFBA90>,\n       <__main__.Tile object at 0x000002A880AFA110>,\n       <__main__.Tile object at 0x000002A880AFB880>,\n       <__main__.Tile object at 0x000002A880AFBBE0>,\n       <__main__.Tile object at 0x000002A880AF9CC0>,\n       <__main__.Tile object at 0x000002A880AF9D50>,\n       <__main__.Tile object at 0x000002A880AF84C0>,\n       <__main__.Tile object at 0x000002A880AF82E0>,\n       <__main__.Tile object at 0x000002A880AF8910>,\n       <__main__.Tile object at 0x000002A880AF9AE0>,\n       <__main__.Tile object at 0x000002A880AF9FC0>,\n       <__main__.Tile object at 0x000002A880AF9060>,\n       <__main__.Tile object at 0x000002A880AF88E0>,\n       <__main__.Tile object at 0x000002A880AF9030>,\n       <__main__.Tile object at 0x000002A880AFAD40>,\n       <__main__.Tile object at 0x000002A880AFBA60>,\n       <__main__.Tile object at 0x000002A880AF8FD0>,\n       <__main__.Tile object at 0x000002A880AF81F0>,\n       <__main__.Tile object at 0x000002A880AFB040>,\n       <__main__.Tile object at 0x000002A880AFA650>,\n       <__main__.Tile object at 0x000002A880AFA500>,\n       <__main__.Tile object at 0x000002A880AFABF0>,\n       <__main__.Tile object at 0x000002A880AFA680>,\n       <__main__.Tile object at 0x000002A880AF8C70>,\n       <__main__.Tile object at 0x000002A880AF9BA0>,\n       <__main__.Tile object at 0x000002A880AF8580>,\n       <__main__.Tile object at 0x000002A880AFAB00>,\n       <__main__.Tile object at 0x000002A880AFA230>,\n       <__main__.Tile object at 0x000002A880AF8A90>,\n       <__main__.Tile object at 0x000002A880AFAFE0>,\n       <__main__.Tile object at 0x000002A880AF8160>,\n       <__main__.Tile object at 0x000002A880AFA980>,\n       <__main__.Tile object at 0x000002A880AF9870>,\n       <__main__.Tile object at 0x000002A880AF9660>,\n       <__main__.Tile object at 0x000002A880AF9E10>,\n       <__main__.Tile object at 0x000002A880AFBDF0>,\n       <__main__.Tile object at 0x000002A880AFBC10>,\n       <__main__.Tile object at 0x000002A880AFB190>,\n       <__main__.Tile object at 0x000002A880AF9690>,\n       <__main__.Tile object at 0x000002A880AFAF50>,\n       <__main__.Tile object at 0x000002A880AFA050>,\n       <__main__.Tile object at 0x000002A880AFB6D0>,\n       <__main__.Tile object at 0x000002A880AFAA10>,\n       <__main__.Tile object at 0x000002A880AF8880>,\n       <__main__.Tile object at 0x000002A880AF9630>,\n       <__main__.Tile object at 0x000002A880AF8F70>,\n       <__main__.Tile object at 0x000002A880AF9540>,\n       <__main__.Tile object at 0x000002A880AF8190>,\n       <__main__.Tile object at 0x000002A880AF8220>,\n       <__main__.Tile object at 0x000002A880AF9390>,\n       <__main__.Tile object at 0x000002A880AFA020>,\n       <__main__.Tile object at 0x000002A880AF9810>], dtype=object)"
     },
     "execution_count": 156,
     "metadata": {},
     "output_type": "execute_result"
    }
   ],
   "source": [
    "def getMinEnthropyCell(target):\n",
    "    pass\n",
    "\n",
    "# set an arbitrary value to collapse 0,0\n",
    "grid[0,0].setValue(1)\n",
    "collapsed_filter = np.array([t.collapsed for t in grid.ravel()])\n",
    "grid.ravel()[~collapsed_filter]"
   ],
   "metadata": {
    "collapsed": false,
    "ExecuteTime": {
     "end_time": "2023-06-05T17:55:25.880190Z",
     "start_time": "2023-06-05T17:55:25.868191Z"
    }
   }
  }
 ],
 "metadata": {
  "kernelspec": {
   "display_name": "Python 3",
   "language": "python",
   "name": "python3"
  },
  "language_info": {
   "codemirror_mode": {
    "name": "ipython",
    "version": 2
   },
   "file_extension": ".py",
   "mimetype": "text/x-python",
   "name": "python",
   "nbconvert_exporter": "python",
   "pygments_lexer": "ipython2",
   "version": "2.7.6"
  }
 },
 "nbformat": 4,
 "nbformat_minor": 0
}
