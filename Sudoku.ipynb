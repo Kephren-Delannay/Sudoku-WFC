{
 "cells": [
  {
   "cell_type": "code",
   "execution_count": 210,
   "metadata": {
    "collapsed": true,
    "ExecuteTime": {
     "end_time": "2023-06-06T15:11:00.707403300Z",
     "start_time": "2023-06-06T15:11:00.691404200Z"
    }
   },
   "outputs": [],
   "source": [
    "import random\n",
    "import pandas as pd\n",
    "import numpy as np"
   ]
  },
  {
   "cell_type": "markdown",
   "source": [
    "# Creation of the tile class\n",
    "This class will be used to represent a cell in the grid and is responsible to hold information of the available options, if the cell has collapsed already and the value chosen iof applicable"
   ],
   "metadata": {
    "collapsed": false
   }
  },
  {
   "cell_type": "code",
   "execution_count": 211,
   "outputs": [],
   "source": [
    "class Tile:\n",
    "    options = []\n",
    "    collapsed = False\n",
    "    value = None\n",
    "    position = ()\n",
    "\n",
    "    def __init__(self, y, x):\n",
    "        self.options = [i for i in range(1, 10)] # set options for a cell from 1 to 9\n",
    "        self.collapsed = False\n",
    "        self.value = None\n",
    "        self.position = (y, x)\n",
    "\n",
    "    def setValue(self, v):\n",
    "        self.value = v\n",
    "        self.options = []\n",
    "        self.collapsed = True\n",
    "\n",
    "    def getEnthropy(self):\n",
    "        return len(self.options)\n",
    "\n",
    "    def __str__(self):\n",
    "        return f'tile {self.position} \\n' \\\n",
    "               f'options : {[i for i in self.options]} \\n' \\\n",
    "               f'value : {self.value} \\n' \\\n",
    "               f'collapsed : {self.collapsed} \\n'\n",
    "\n",
    "    def __le__(self, other):\n",
    "        return self.getEnthropy() < other.getEnthropy()\n",
    "\n",
    "    def __eq__(self, other):\n",
    "        return self.getEnthropy() == other.getEnthropy()\n",
    "\n",
    "    def __gt__(self, other):\n",
    "        return self.getEnthropy() > other.getEnthropy()\n"
   ],
   "metadata": {
    "collapsed": false,
    "ExecuteTime": {
     "end_time": "2023-06-06T15:11:00.734922600Z",
     "start_time": "2023-06-06T15:11:00.699405900Z"
    }
   }
  },
  {
   "cell_type": "markdown",
   "source": [
    "# Creation of the grid"
   ],
   "metadata": {
    "collapsed": false
   }
  },
  {
   "cell_type": "code",
   "execution_count": 212,
   "outputs": [],
   "source": [
    "grid = np.empty(shape=(9,9), dtype=Tile)\n",
    "for y in range(9):\n",
    "    for x in range(9):\n",
    "        grid[y, x] = Tile(y, x)\n"
   ],
   "metadata": {
    "collapsed": false,
    "ExecuteTime": {
     "end_time": "2023-06-06T15:11:00.735923300Z",
     "start_time": "2023-06-06T15:11:00.712410500Z"
    }
   }
  },
  {
   "cell_type": "markdown",
   "source": [
    "# System to display the sudoku grid"
   ],
   "metadata": {
    "collapsed": false
   }
  },
  {
   "cell_type": "code",
   "execution_count": 213,
   "outputs": [],
   "source": [
    "def displayGrid(target):\n",
    "    display = \"\"\n",
    "    for y in range(9):\n",
    "        for x in range(9):\n",
    "            display += (\" \" + str(target[y, x].value) + \" \")\n",
    "        display += \"\\n\"\n",
    "    print(display)\n"
   ],
   "metadata": {
    "collapsed": false,
    "ExecuteTime": {
     "end_time": "2023-06-06T15:11:00.740926Z",
     "start_time": "2023-06-06T15:11:00.726923400Z"
    }
   }
  },
  {
   "cell_type": "code",
   "execution_count": 214,
   "outputs": [],
   "source": [
    "def validateGrid(target):\n",
    "    for i in range(9):\n",
    "        try:\n",
    "            row_sum = sum([t.value for t in grid[i, :]])\n",
    "            col_sum = sum([t.value for t in grid[:, i]])\n",
    "        except TypeError:\n",
    "            return False\n",
    "        if row_sum != 45 or col_sum != 45:\n",
    "            return False\n",
    "    return True\n"
   ],
   "metadata": {
    "collapsed": false,
    "ExecuteTime": {
     "end_time": "2023-06-06T15:11:00.755943300Z",
     "start_time": "2023-06-06T15:11:00.743925600Z"
    }
   }
  },
  {
   "cell_type": "code",
   "execution_count": 215,
   "outputs": [
    {
     "name": "stdout",
     "output_type": "stream",
     "text": [
      " None  None  None  None  None  None  None  None  None \n",
      " None  None  None  None  None  None  None  None  None \n",
      " None  None  None  None  None  None  None  None  None \n",
      " None  None  None  None  None  None  None  None  None \n",
      " None  None  None  None  None  None  None  None  None \n",
      " None  None  None  None  None  None  None  None  None \n",
      " None  None  None  None  None  None  None  None  None \n",
      " None  None  None  None  None  None  None  None  None \n",
      " None  None  None  None  None  None  None  None  None \n",
      "\n"
     ]
    },
    {
     "data": {
      "text/plain": "False"
     },
     "execution_count": 215,
     "metadata": {},
     "output_type": "execute_result"
    }
   ],
   "source": [
    "displayGrid(grid)\n",
    "validateGrid(grid)"
   ],
   "metadata": {
    "collapsed": false,
    "ExecuteTime": {
     "end_time": "2023-06-06T15:11:00.800950100Z",
     "start_time": "2023-06-06T15:11:00.757941700Z"
    }
   }
  },
  {
   "cell_type": "markdown",
   "source": [
    "# Algorithm\n",
    "We create functions for the algorithm\n",
    "- Function to select cell with lowest enthropy\n",
    "- Function to collapse a cell\n",
    "- Function to propagate changes"
   ],
   "metadata": {
    "collapsed": false
   }
  },
  {
   "cell_type": "code",
   "execution_count": 222,
   "outputs": [],
   "source": [
    "def getMinEnthropyCell(target):\n",
    "    # for now it wil always get the first option of the sorted list\n",
    "    # TODO: add randomness\n",
    "\n",
    "    collapsed_filter = np.array([t.collapsed for t in grid.ravel()])\n",
    "    # just getting the non collapsed values\n",
    "    l = list(grid.ravel()[~collapsed_filter])\n",
    "    return sorted(l)[0]\n",
    "\n",
    "# set an arbitrary value to collapse 0,0\n",
    "grid[0,0].setValue(1)\n"
   ],
   "metadata": {
    "collapsed": false,
    "ExecuteTime": {
     "end_time": "2023-06-06T15:11:37.276677400Z",
     "start_time": "2023-06-06T15:11:37.271677Z"
    }
   }
  },
  {
   "cell_type": "code",
   "execution_count": 223,
   "outputs": [
    {
     "name": "stdout",
     "output_type": "stream",
     "text": [
      "tile (0, 1) \n",
      "options : [1, 2, 3, 4, 5, 6, 7, 8, 9] \n",
      "value : None \n",
      "collapsed : False \n",
      "\n"
     ]
    }
   ],
   "source": [
    "print(getMinEnthropyCell(grid))"
   ],
   "metadata": {
    "collapsed": false,
    "ExecuteTime": {
     "end_time": "2023-06-06T15:11:37.826682600Z",
     "start_time": "2023-06-06T15:11:37.814684900Z"
    }
   }
  },
  {
   "cell_type": "code",
   "execution_count": 217,
   "outputs": [],
   "source": [],
   "metadata": {
    "collapsed": false,
    "ExecuteTime": {
     "end_time": "2023-06-06T15:11:00.818962Z",
     "start_time": "2023-06-06T15:11:00.802953600Z"
    }
   }
  }
 ],
 "metadata": {
  "kernelspec": {
   "display_name": "Python 3",
   "language": "python",
   "name": "python3"
  },
  "language_info": {
   "codemirror_mode": {
    "name": "ipython",
    "version": 2
   },
   "file_extension": ".py",
   "mimetype": "text/x-python",
   "name": "python",
   "nbconvert_exporter": "python",
   "pygments_lexer": "ipython2",
   "version": "2.7.6"
  }
 },
 "nbformat": 4,
 "nbformat_minor": 0
}
