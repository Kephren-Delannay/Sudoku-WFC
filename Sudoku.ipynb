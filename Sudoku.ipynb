{
 "cells": [
  {
   "cell_type": "code",
   "execution_count": 747,
   "metadata": {
    "collapsed": true,
    "ExecuteTime": {
     "end_time": "2023-06-11T18:30:44.365682800Z",
     "start_time": "2023-06-11T18:30:44.354680800Z"
    }
   },
   "outputs": [],
   "source": [
    "import random\n",
    "import numpy as np\n",
    "#random.seed(10)"
   ]
  },
  {
   "cell_type": "markdown",
   "source": [
    "# Creation of the tile class\n",
    "This class will be used to represent a cell in the grid and is responsible to hold information of the available options, if the cell has collapsed already and the value chosen iof applicable"
   ],
   "metadata": {
    "collapsed": false
   }
  },
  {
   "cell_type": "code",
   "execution_count": 748,
   "outputs": [],
   "source": [
    "class Tile:\n",
    "    options = []\n",
    "    collapsed = False\n",
    "    value = None\n",
    "    position = ()\n",
    "\n",
    "    def __init__(self, y, x):\n",
    "        self.options = [i for i in range(1, 10)] # set options for a cell from 1 to 9\n",
    "        self.collapsed = False\n",
    "        self.value = None\n",
    "        self.position = (y, x)\n",
    "\n",
    "    def setValue(self, v):\n",
    "        self.value = v\n",
    "        self.options = []\n",
    "        self.collapsed = True\n",
    "\n",
    "    def getEnthropy(self):\n",
    "        return len(self.options)\n",
    "\n",
    "    def setOptions(self, selectedOption):\n",
    "        \"\"\"\n",
    "        Updates the available options for a given cell based on the selected option from a neighbouring cell \\n\n",
    "        For this example we simply remove the selected option from the available ones but in more complex grids, we should verify the validity of each option based on the selected one\n",
    "        :param selectedOption: the option that was selected on the collapse\n",
    "        :return: None\n",
    "        \"\"\"\n",
    "        if selectedOption in self.options:\n",
    "            self.options.remove(selectedOption)\n",
    "\n",
    "    def collapse(self):\n",
    "        \"\"\"\n",
    "        collapse the selected cell to a single value at random (this could take into account the biais of the input)\n",
    "        \"\"\"\n",
    "        v = random.choice(self.options)\n",
    "        self.setValue(v)\n",
    "\n",
    "    def __repr__(self):\n",
    "        return f'tile {self.position} \\n' \\\n",
    "               f'options : {[i for i in self.options]} \\n' \\\n",
    "               f'value : {self.value} \\n' \\\n",
    "               f'collapsed : {self.collapsed} \\n'\n",
    "\n",
    "    def __le__(self, other):\n",
    "        return self.getEnthropy() < other.getEnthropy()\n",
    "\n",
    "    def __eq__(self, other):\n",
    "        return self.getEnthropy() == other.getEnthropy()\n",
    "\n",
    "    def __gt__(self, other):\n",
    "        return self.getEnthropy() > other.getEnthropy()\n"
   ],
   "metadata": {
    "collapsed": false,
    "ExecuteTime": {
     "end_time": "2023-06-11T18:30:44.413679200Z",
     "start_time": "2023-06-11T18:30:44.362683Z"
    }
   }
  },
  {
   "cell_type": "markdown",
   "source": [
    "# Creation of the grid"
   ],
   "metadata": {
    "collapsed": false
   }
  },
  {
   "cell_type": "code",
   "execution_count": 749,
   "outputs": [],
   "source": [
    "grid = np.empty(shape=(9,9), dtype=Tile)\n",
    "for y in range(9):\n",
    "    for x in range(9):\n",
    "        grid[y, x] = Tile(y, x)\n"
   ],
   "metadata": {
    "collapsed": false,
    "ExecuteTime": {
     "end_time": "2023-06-11T18:30:44.413679200Z",
     "start_time": "2023-06-11T18:30:44.376683300Z"
    }
   }
  },
  {
   "cell_type": "markdown",
   "source": [
    "# System to display the sudoku grid"
   ],
   "metadata": {
    "collapsed": false
   }
  },
  {
   "cell_type": "code",
   "execution_count": 750,
   "outputs": [],
   "source": [
    "def displayGrid():\n",
    "    display = f''\n",
    "    for y in range(9):\n",
    "        for x in range(9):\n",
    "            #display += (\" \" + str(target[y, x].value) + \" \")\n",
    "            display += f'{str(grid[y, x].value):>4} '\n",
    "            if (x+1) % 3 == 0:\n",
    "                display += '|'\n",
    "        display += \"\\n\"\n",
    "        if (y+1) % 3 == 0:\n",
    "                display += '   ____________________________________________\\n'\n",
    "    print(display)\n"
   ],
   "metadata": {
    "collapsed": false,
    "ExecuteTime": {
     "end_time": "2023-06-11T18:30:44.413679200Z",
     "start_time": "2023-06-11T18:30:44.391681100Z"
    }
   }
  },
  {
   "cell_type": "code",
   "execution_count": 751,
   "outputs": [],
   "source": [
    "def validateGrid():\n",
    "    for i in range(9):\n",
    "        try:\n",
    "            row_sum = sum([t.value for t in grid[i, :]])\n",
    "            col_sum = sum([t.value for t in grid[:, i]])\n",
    "        except TypeError:\n",
    "            return False\n",
    "        if row_sum != 45 or col_sum != 45:\n",
    "            return False\n",
    "    return True\n"
   ],
   "metadata": {
    "collapsed": false,
    "ExecuteTime": {
     "end_time": "2023-06-11T18:30:44.420684300Z",
     "start_time": "2023-06-11T18:30:44.408681400Z"
    }
   }
  },
  {
   "cell_type": "code",
   "execution_count": 752,
   "outputs": [
    {
     "name": "stdout",
     "output_type": "stream",
     "text": [
      "None None None |None None None |None None None |\n",
      "None None None |None None None |None None None |\n",
      "None None None |None None None |None None None |\n",
      "   ____________________________________________\n",
      "None None None |None None None |None None None |\n",
      "None None None |None None None |None None None |\n",
      "None None None |None None None |None None None |\n",
      "   ____________________________________________\n",
      "None None None |None None None |None None None |\n",
      "None None None |None None None |None None None |\n",
      "None None None |None None None |None None None |\n",
      "   ____________________________________________\n",
      "\n"
     ]
    },
    {
     "data": {
      "text/plain": "False"
     },
     "execution_count": 752,
     "metadata": {},
     "output_type": "execute_result"
    }
   ],
   "source": [
    "displayGrid()\n",
    "validateGrid()"
   ],
   "metadata": {
    "collapsed": false,
    "ExecuteTime": {
     "end_time": "2023-06-11T18:30:44.435681400Z",
     "start_time": "2023-06-11T18:30:44.422682400Z"
    }
   }
  },
  {
   "cell_type": "markdown",
   "source": [
    "# Algorithm\n",
    "We create functions for the algorithm\n",
    "- Function to select cell with lowest enthropy\n",
    "- Function to collapse a cell\n",
    "- Function to propagate changes"
   ],
   "metadata": {
    "collapsed": false
   }
  },
  {
   "cell_type": "code",
   "execution_count": 753,
   "outputs": [],
   "source": [
    "def getMinEnthropyCell():\n",
    "    \"\"\"\n",
    "    Return the cell with the least enthropy in the grid\n",
    "    :return: a cell\n",
    "    \"\"\"\n",
    "    # for now it wil always get the first option of the sorted list\n",
    "    # TODO: add randomness\n",
    "\n",
    "    collapsed_filter = np.array([t.collapsed for t in grid.ravel()])\n",
    "\n",
    "    # just getting the non collapsed values\n",
    "    l = list(grid.ravel()[~collapsed_filter])\n",
    "\n",
    "    # return the first element of the sorted list\n",
    "    return sorted(l)[0]\n",
    "\n"
   ],
   "metadata": {
    "collapsed": false,
    "ExecuteTime": {
     "end_time": "2023-06-11T18:30:44.479599200Z",
     "start_time": "2023-06-11T18:30:44.435681400Z"
    }
   }
  },
  {
   "cell_type": "code",
   "execution_count": 754,
   "outputs": [
    {
     "data": {
      "text/plain": "[(3, 6), (3, 7), (3, 8), (4, 6), (4, 7), (4, 8), (5, 6), (5, 7), (5, 8)]"
     },
     "execution_count": 754,
     "metadata": {},
     "output_type": "execute_result"
    }
   ],
   "source": [
    "y, x = 1, 0\n",
    "# intervals : 0, 1, 2, 3, 4, 5, 6, 7, 8 represents the big squares\n",
    "def getCellsCoordsInInterval(square: int ):\n",
    "    coords = []\n",
    "    for y_off in range(0, 3):\n",
    "        for x_off in range(0, 3):\n",
    "            _x = ((3 * square) + x_off) % 9\n",
    "            _y = (square // 3) * 3 + y_off\n",
    "            coords.append((_y, _x))\n",
    "    return coords\n",
    "\n",
    "getCellsCoordsInInterval(5)"
   ],
   "metadata": {
    "collapsed": false,
    "ExecuteTime": {
     "end_time": "2023-06-11T18:30:44.487616300Z",
     "start_time": "2023-06-11T18:30:44.452694400Z"
    }
   }
  },
  {
   "cell_type": "code",
   "execution_count": 755,
   "outputs": [
    {
     "data": {
      "text/plain": "5"
     },
     "execution_count": 755,
     "metadata": {},
     "output_type": "execute_result"
    }
   ],
   "source": [
    "def getInterval(coords):\n",
    "    _y, _x = coords\n",
    "    row = _y // 3\n",
    "    col = _x // 3\n",
    "    inter = row * 3 + col\n",
    "    return inter\n",
    "\n",
    "getInterval((4, 6))"
   ],
   "metadata": {
    "collapsed": false,
    "ExecuteTime": {
     "end_time": "2023-06-11T18:30:44.487616300Z",
     "start_time": "2023-06-11T18:30:44.466695700Z"
    }
   }
  },
  {
   "cell_type": "code",
   "execution_count": 756,
   "outputs": [],
   "source": [
    "def propagateChanges(cell):\n",
    "    \"\"\"\n",
    "    Propagate for 1 cycle only the changes in the grid to neighbouring cells\n",
    "    :param cell: the collapsed cell\n",
    "    :return: None\n",
    "    \"\"\"\n",
    "    y,x = cell.position\n",
    "\n",
    "    for i in range(9):\n",
    "        # propagate on the row\n",
    "        grid[y, i].setOptions(cell.value)\n",
    "\n",
    "        # propagate on the column\n",
    "        grid[i, x].setOptions(cell.value)\n",
    "\n",
    "    # propagate around\n",
    "    interval = getInterval(cell.position)\n",
    "    coords = getCellsCoordsInInterval(interval)\n",
    "\n",
    "    for pos in coords:\n",
    "        if pos == cell.position:\n",
    "            continue\n",
    "        grid[pos].setOptions(cell.value)\n"
   ],
   "metadata": {
    "collapsed": false,
    "ExecuteTime": {
     "end_time": "2023-06-11T18:30:44.496616500Z",
     "start_time": "2023-06-11T18:30:44.484617400Z"
    }
   }
  },
  {
   "cell_type": "code",
   "execution_count": 757,
   "outputs": [],
   "source": [
    "def displayGridOptions():\n",
    "    display = f''\n",
    "    for y in range(9):\n",
    "        for x in range(9):\n",
    "            #display += (\" \" + str(target[y, x].value) + \" \")\n",
    "            display += f'{str(len(grid[y, x].options)):>4} '\n",
    "        display += \"\\n\"\n",
    "    print(display)"
   ],
   "metadata": {
    "collapsed": false,
    "ExecuteTime": {
     "end_time": "2023-06-11T18:30:44.541747200Z",
     "start_time": "2023-06-11T18:30:44.499616500Z"
    }
   }
  },
  {
   "cell_type": "code",
   "execution_count": 758,
   "outputs": [],
   "source": [
    "class UnfinishedError(Exception):\n",
    "    pass"
   ],
   "metadata": {
    "collapsed": false,
    "ExecuteTime": {
     "end_time": "2023-06-11T18:30:44.553262900Z",
     "start_time": "2023-06-11T18:30:44.513877600Z"
    }
   }
  },
  {
   "cell_type": "code",
   "execution_count": 759,
   "outputs": [],
   "source": [
    "class FinishedError(Exception):\n",
    "    pass"
   ],
   "metadata": {
    "collapsed": false,
    "ExecuteTime": {
     "end_time": "2023-06-11T18:30:44.553262900Z",
     "start_time": "2023-06-11T18:30:44.527878800Z"
    }
   }
  },
  {
   "cell_type": "code",
   "execution_count": 760,
   "outputs": [],
   "source": [
    "def algorithm():\n",
    "    try:\n",
    "        selected_cell = getMinEnthropyCell()\n",
    "    except IndexError:\n",
    "        raise FinishedError()\n",
    "    try:\n",
    "        selected_cell.collapse()\n",
    "    except IndexError:\n",
    "        raise UnfinishedError(\"Cannot finish\")\n",
    "    propagateChanges(selected_cell)\n",
    "    displayGrid()\n",
    "    #displayGridOptions()\n",
    "\n",
    "\n"
   ],
   "metadata": {
    "collapsed": false,
    "ExecuteTime": {
     "end_time": "2023-06-11T18:30:44.565258900Z",
     "start_time": "2023-06-11T18:30:44.545749600Z"
    }
   }
  },
  {
   "cell_type": "code",
   "execution_count": 761,
   "outputs": [
    {
     "name": "stdout",
     "output_type": "stream",
     "text": [
      "   5 None None |None None None |None None None |\n",
      "None None None |None None None |None None None |\n",
      "None None None |None None None |None None None |\n",
      "   ____________________________________________\n",
      "None None None |None None None |None None None |\n",
      "None None None |None None None |None None None |\n",
      "None None None |None None None |None None None |\n",
      "   ____________________________________________\n",
      "None None None |None None None |None None None |\n",
      "None None None |None None None |None None None |\n",
      "None None None |None None None |None None None |\n",
      "   ____________________________________________\n",
      "\n",
      "   5    4 None |None None None |None None None |\n",
      "None None None |None None None |None None None |\n",
      "None None None |None None None |None None None |\n",
      "   ____________________________________________\n",
      "None None None |None None None |None None None |\n",
      "None None None |None None None |None None None |\n",
      "None None None |None None None |None None None |\n",
      "   ____________________________________________\n",
      "None None None |None None None |None None None |\n",
      "None None None |None None None |None None None |\n",
      "None None None |None None None |None None None |\n",
      "   ____________________________________________\n",
      "\n",
      "   5    4    7 |None None None |None None None |\n",
      "None None None |None None None |None None None |\n",
      "None None None |None None None |None None None |\n",
      "   ____________________________________________\n",
      "None None None |None None None |None None None |\n",
      "None None None |None None None |None None None |\n",
      "None None None |None None None |None None None |\n",
      "   ____________________________________________\n",
      "None None None |None None None |None None None |\n",
      "None None None |None None None |None None None |\n",
      "None None None |None None None |None None None |\n",
      "   ____________________________________________\n",
      "\n",
      "   5    4    7 |   3 None None |None None None |\n",
      "None None None |None None None |None None None |\n",
      "None None None |None None None |None None None |\n",
      "   ____________________________________________\n",
      "None None None |None None None |None None None |\n",
      "None None None |None None None |None None None |\n",
      "None None None |None None None |None None None |\n",
      "   ____________________________________________\n",
      "None None None |None None None |None None None |\n",
      "None None None |None None None |None None None |\n",
      "None None None |None None None |None None None |\n",
      "   ____________________________________________\n",
      "\n",
      "   5    4    7 |   3    1 None |None None None |\n",
      "None None None |None None None |None None None |\n",
      "None None None |None None None |None None None |\n",
      "   ____________________________________________\n",
      "None None None |None None None |None None None |\n",
      "None None None |None None None |None None None |\n",
      "None None None |None None None |None None None |\n",
      "   ____________________________________________\n",
      "None None None |None None None |None None None |\n",
      "None None None |None None None |None None None |\n",
      "None None None |None None None |None None None |\n",
      "   ____________________________________________\n",
      "\n",
      "   5    4    7 |   3    1    9 |None None None |\n",
      "None None None |None None None |None None None |\n",
      "None None None |None None None |None None None |\n",
      "   ____________________________________________\n",
      "None None None |None None None |None None None |\n",
      "None None None |None None None |None None None |\n",
      "None None None |None None None |None None None |\n",
      "   ____________________________________________\n",
      "None None None |None None None |None None None |\n",
      "None None None |None None None |None None None |\n",
      "None None None |None None None |None None None |\n",
      "   ____________________________________________\n",
      "\n",
      "   5    4    7 |   3    1    9 |   8 None None |\n",
      "None None None |None None None |None None None |\n",
      "None None None |None None None |None None None |\n",
      "   ____________________________________________\n",
      "None None None |None None None |None None None |\n",
      "None None None |None None None |None None None |\n",
      "None None None |None None None |None None None |\n",
      "   ____________________________________________\n",
      "None None None |None None None |None None None |\n",
      "None None None |None None None |None None None |\n",
      "None None None |None None None |None None None |\n",
      "   ____________________________________________\n",
      "\n",
      "   5    4    7 |   3    1    9 |   8    6 None |\n",
      "None None None |None None None |None None None |\n",
      "None None None |None None None |None None None |\n",
      "   ____________________________________________\n",
      "None None None |None None None |None None None |\n",
      "None None None |None None None |None None None |\n",
      "None None None |None None None |None None None |\n",
      "   ____________________________________________\n",
      "None None None |None None None |None None None |\n",
      "None None None |None None None |None None None |\n",
      "None None None |None None None |None None None |\n",
      "   ____________________________________________\n",
      "\n",
      "   5    4    7 |   3    1    9 |   8    6    2 |\n",
      "None None None |None None None |None None None |\n",
      "None None None |None None None |None None None |\n",
      "   ____________________________________________\n",
      "None None None |None None None |None None None |\n",
      "None None None |None None None |None None None |\n",
      "None None None |None None None |None None None |\n",
      "   ____________________________________________\n",
      "None None None |None None None |None None None |\n",
      "None None None |None None None |None None None |\n",
      "None None None |None None None |None None None |\n",
      "   ____________________________________________\n",
      "\n",
      "   5    4    7 |   3    1    9 |   8    6    2 |\n",
      "   3 None None |None None None |None None None |\n",
      "None None None |None None None |None None None |\n",
      "   ____________________________________________\n",
      "None None None |None None None |None None None |\n",
      "None None None |None None None |None None None |\n",
      "None None None |None None None |None None None |\n",
      "   ____________________________________________\n",
      "None None None |None None None |None None None |\n",
      "None None None |None None None |None None None |\n",
      "None None None |None None None |None None None |\n",
      "   ____________________________________________\n",
      "\n",
      "   5    4    7 |   3    1    9 |   8    6    2 |\n",
      "   3    2 None |None None None |None None None |\n",
      "None None None |None None None |None None None |\n",
      "   ____________________________________________\n",
      "None None None |None None None |None None None |\n",
      "None None None |None None None |None None None |\n",
      "None None None |None None None |None None None |\n",
      "   ____________________________________________\n",
      "None None None |None None None |None None None |\n",
      "None None None |None None None |None None None |\n",
      "None None None |None None None |None None None |\n",
      "   ____________________________________________\n",
      "\n",
      "   5    4    7 |   3    1    9 |   8    6    2 |\n",
      "   3    2    1 |None None None |None None None |\n",
      "None None None |None None None |None None None |\n",
      "   ____________________________________________\n",
      "None None None |None None None |None None None |\n",
      "None None None |None None None |None None None |\n",
      "None None None |None None None |None None None |\n",
      "   ____________________________________________\n",
      "None None None |None None None |None None None |\n",
      "None None None |None None None |None None None |\n",
      "None None None |None None None |None None None |\n",
      "   ____________________________________________\n",
      "\n",
      "   5    4    7 |   3    1    9 |   8    6    2 |\n",
      "   3    2    1 |None None None |None None None |\n",
      "   9 None None |None None None |None None None |\n",
      "   ____________________________________________\n",
      "None None None |None None None |None None None |\n",
      "None None None |None None None |None None None |\n",
      "None None None |None None None |None None None |\n",
      "   ____________________________________________\n",
      "None None None |None None None |None None None |\n",
      "None None None |None None None |None None None |\n",
      "None None None |None None None |None None None |\n",
      "   ____________________________________________\n",
      "\n",
      "   5    4    7 |   3    1    9 |   8    6    2 |\n",
      "   3    2    1 |None None None |None None None |\n",
      "   9    8 None |None None None |None None None |\n",
      "   ____________________________________________\n",
      "None None None |None None None |None None None |\n",
      "None None None |None None None |None None None |\n",
      "None None None |None None None |None None None |\n",
      "   ____________________________________________\n",
      "None None None |None None None |None None None |\n",
      "None None None |None None None |None None None |\n",
      "None None None |None None None |None None None |\n",
      "   ____________________________________________\n",
      "\n",
      "   5    4    7 |   3    1    9 |   8    6    2 |\n",
      "   3    2    1 |None None None |None None None |\n",
      "   9    8    6 |None None None |None None None |\n",
      "   ____________________________________________\n",
      "None None None |None None None |None None None |\n",
      "None None None |None None None |None None None |\n",
      "None None None |None None None |None None None |\n",
      "   ____________________________________________\n",
      "None None None |None None None |None None None |\n",
      "None None None |None None None |None None None |\n",
      "None None None |None None None |None None None |\n",
      "   ____________________________________________\n",
      "\n",
      "   5    4    7 |   3    1    9 |   8    6    2 |\n",
      "   3    2    1 |None None None |   7 None None |\n",
      "   9    8    6 |None None None |None None None |\n",
      "   ____________________________________________\n",
      "None None None |None None None |None None None |\n",
      "None None None |None None None |None None None |\n",
      "None None None |None None None |None None None |\n",
      "   ____________________________________________\n",
      "None None None |None None None |None None None |\n",
      "None None None |None None None |None None None |\n",
      "None None None |None None None |None None None |\n",
      "   ____________________________________________\n",
      "\n",
      "   5    4    7 |   3    1    9 |   8    6    2 |\n",
      "   3    2    1 |None None None |   7    5 None |\n",
      "   9    8    6 |None None None |None None None |\n",
      "   ____________________________________________\n",
      "None None None |None None None |None None None |\n",
      "None None None |None None None |None None None |\n",
      "None None None |None None None |None None None |\n",
      "   ____________________________________________\n",
      "None None None |None None None |None None None |\n",
      "None None None |None None None |None None None |\n",
      "None None None |None None None |None None None |\n",
      "   ____________________________________________\n",
      "\n",
      "   5    4    7 |   3    1    9 |   8    6    2 |\n",
      "   3    2    1 |None None None |   7    5    4 |\n",
      "   9    8    6 |None None None |None None None |\n",
      "   ____________________________________________\n",
      "None None None |None None None |None None None |\n",
      "None None None |None None None |None None None |\n",
      "None None None |None None None |None None None |\n",
      "   ____________________________________________\n",
      "None None None |None None None |None None None |\n",
      "None None None |None None None |None None None |\n",
      "None None None |None None None |None None None |\n",
      "   ____________________________________________\n",
      "\n",
      "   5    4    7 |   3    1    9 |   8    6    2 |\n",
      "   3    2    1 |   8 None None |   7    5    4 |\n",
      "   9    8    6 |None None None |None None None |\n",
      "   ____________________________________________\n",
      "None None None |None None None |None None None |\n",
      "None None None |None None None |None None None |\n",
      "None None None |None None None |None None None |\n",
      "   ____________________________________________\n",
      "None None None |None None None |None None None |\n",
      "None None None |None None None |None None None |\n",
      "None None None |None None None |None None None |\n",
      "   ____________________________________________\n",
      "\n",
      "   5    4    7 |   3    1    9 |   8    6    2 |\n",
      "   3    2    1 |   8    6 None |   7    5    4 |\n",
      "   9    8    6 |None None None |None None None |\n",
      "   ____________________________________________\n",
      "None None None |None None None |None None None |\n",
      "None None None |None None None |None None None |\n",
      "None None None |None None None |None None None |\n",
      "   ____________________________________________\n",
      "None None None |None None None |None None None |\n",
      "None None None |None None None |None None None |\n",
      "None None None |None None None |None None None |\n",
      "   ____________________________________________\n",
      "\n",
      "Failed in 20 steps\n"
     ]
    }
   ],
   "source": [
    "for i in range(100):\n",
    "    try:\n",
    "        algorithm()\n",
    "    except UnfinishedError:\n",
    "        print(f'Failed in {i} steps')\n",
    "        break\n",
    "    except FinishedError:\n",
    "        print(f'Success in {i} steps')\n",
    "        break"
   ],
   "metadata": {
    "collapsed": false,
    "ExecuteTime": {
     "end_time": "2023-06-11T18:30:44.604305100Z",
     "start_time": "2023-06-11T18:30:44.561259900Z"
    }
   }
  },
  {
   "cell_type": "code",
   "execution_count": 762,
   "outputs": [
    {
     "name": "stdout",
     "output_type": "stream",
     "text": [
      "   0    0    0    0    0    0    0    0    0 \n",
      "   0    0    0    0    0    0    0    0    0 \n",
      "   0    0    0    4    4    4    2    2    2 \n",
      "   6    6    6    7    7    8    7    7    7 \n",
      "   6    6    6    7    7    8    7    7    7 \n",
      "   6    6    6    7    7    8    7    7    7 \n",
      "   6    6    6    7    7    8    7    7    7 \n",
      "   6    6    6    7    7    8    7    7    7 \n",
      "   6    6    6    7    7    8    7    7    7 \n",
      "\n"
     ]
    }
   ],
   "source": [
    "displayGridOptions()"
   ],
   "metadata": {
    "collapsed": false,
    "ExecuteTime": {
     "end_time": "2023-06-11T18:30:44.612340800Z",
     "start_time": "2023-06-11T18:30:44.576303Z"
    }
   }
  }
 ],
 "metadata": {
  "kernelspec": {
   "display_name": "Python 3",
   "language": "python",
   "name": "python3"
  },
  "language_info": {
   "codemirror_mode": {
    "name": "ipython",
    "version": 2
   },
   "file_extension": ".py",
   "mimetype": "text/x-python",
   "name": "python",
   "nbconvert_exporter": "python",
   "pygments_lexer": "ipython2",
   "version": "2.7.6"
  }
 },
 "nbformat": 4,
 "nbformat_minor": 0
}
