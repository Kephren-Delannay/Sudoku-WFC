{
 "cells": [
  {
   "cell_type": "code",
   "execution_count": 2,
   "metadata": {
    "collapsed": true,
    "ExecuteTime": {
     "end_time": "2023-06-05T15:42:31.060260900Z",
     "start_time": "2023-06-05T15:42:31.054737100Z"
    }
   },
   "outputs": [],
   "source": [
    "import random\n",
    "import pandas as pd\n",
    "import numpy as np"
   ]
  },
  {
   "cell_type": "markdown",
   "source": [
    "# Creation of the tile class\n",
    "This class will be used to represent a cell in the grid and is responsible to hold information of the available options, if the cell has collapsed already and the value chosen iof applicable"
   ],
   "metadata": {
    "collapsed": false
   }
  },
  {
   "cell_type": "code",
   "execution_count": 19,
   "outputs": [],
   "source": [
    "class Tile:\n",
    "    options = []\n",
    "    collapsed = False\n",
    "    value = None\n",
    "    position = ()\n",
    "\n",
    "    def __init__(self, x, y):\n",
    "        self.options = [i for i in range(1, 10)] # set options for a cell from 1 to 9\n",
    "        self.collapsed = False\n",
    "        self.value = None\n",
    "        self.position = (x, y)\n",
    "\n",
    "    def setValue(self, v):\n",
    "        self.value = v\n",
    "        self.collapsed = True\n",
    "\n",
    "    def __str__(self):\n",
    "        return f'tile {self.position} \\n' \\\n",
    "               f'options : {[i for i in self.options]} \\n' \\\n",
    "               f'value : {self.value} \\n' \\\n",
    "               f'collapsed : {self.collapsed} \\n'\n"
   ],
   "metadata": {
    "collapsed": false,
    "ExecuteTime": {
     "end_time": "2023-06-05T16:09:05.993643100Z",
     "start_time": "2023-06-05T16:09:05.983439200Z"
    }
   }
  },
  {
   "cell_type": "markdown",
   "source": [
    "# Creation of the grid"
   ],
   "metadata": {
    "collapsed": false
   }
  },
  {
   "cell_type": "code",
   "execution_count": 25,
   "outputs": [],
   "source": [
    "grid = np.empty(shape=(9,9), dtype=Tile)\n",
    "for x in range(9):\n",
    "    for y in range(9):\n",
    "        grid[x][y] = Tile(x, y)\n"
   ],
   "metadata": {
    "collapsed": false,
    "ExecuteTime": {
     "end_time": "2023-06-05T16:09:41.099209100Z",
     "start_time": "2023-06-05T16:09:41.095161200Z"
    }
   }
  },
  {
   "cell_type": "code",
   "execution_count": null,
   "outputs": [],
   "source": [],
   "metadata": {
    "collapsed": false
   }
  }
 ],
 "metadata": {
  "kernelspec": {
   "display_name": "Python 3",
   "language": "python",
   "name": "python3"
  },
  "language_info": {
   "codemirror_mode": {
    "name": "ipython",
    "version": 2
   },
   "file_extension": ".py",
   "mimetype": "text/x-python",
   "name": "python",
   "nbconvert_exporter": "python",
   "pygments_lexer": "ipython2",
   "version": "2.7.6"
  }
 },
 "nbformat": 4,
 "nbformat_minor": 0
}
