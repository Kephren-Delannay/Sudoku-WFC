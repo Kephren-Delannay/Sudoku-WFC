{
 "cells": [
  {
   "cell_type": "code",
   "execution_count": 2,
   "metadata": {
    "collapsed": true,
    "ExecuteTime": {
     "end_time": "2023-06-05T15:42:31.060260900Z",
     "start_time": "2023-06-05T15:42:31.054737100Z"
    }
   },
   "outputs": [],
   "source": [
    "import random\n",
    "import pandas as pd\n",
    "import numpy as np"
   ]
  },
  {
   "cell_type": "markdown",
   "source": [
    "# Creation of the tile class\n",
    "This class will be used to represent a cell in the grid and is responsible to hold information of the available options, if the cell has collapsed already and the value chosen iof applicable"
   ],
   "metadata": {
    "collapsed": false
   }
  },
  {
   "cell_type": "code",
   "execution_count": 71,
   "outputs": [],
   "source": [
    "class Tile:\n",
    "    options = []\n",
    "    collapsed = False\n",
    "    value = None\n",
    "    position = ()\n",
    "\n",
    "    def __init__(self, y, x):\n",
    "        self.options = [i for i in range(1, 10)] # set options for a cell from 1 to 9\n",
    "        self.collapsed = False\n",
    "        self.value = None\n",
    "        self.position = (y, x)\n",
    "\n",
    "    def setValue(self, v):\n",
    "        self.value = v\n",
    "        self.collapsed = True\n",
    "\n",
    "    def __str__(self):\n",
    "        return f'tile {self.position} \\n' \\\n",
    "               f'options : {[i for i in self.options]} \\n' \\\n",
    "               f'value : {self.value} \\n' \\\n",
    "               f'collapsed : {self.collapsed} \\n'\n",
    "\n"
   ],
   "metadata": {
    "collapsed": false,
    "ExecuteTime": {
     "end_time": "2023-06-05T16:35:36.856477200Z",
     "start_time": "2023-06-05T16:35:36.848559Z"
    }
   }
  },
  {
   "cell_type": "markdown",
   "source": [
    "# Creation of the grid"
   ],
   "metadata": {
    "collapsed": false
   }
  },
  {
   "cell_type": "code",
   "execution_count": 92,
   "outputs": [],
   "source": [
    "grid = np.empty(shape=(9,9), dtype=Tile)\n",
    "for y in range(9):\n",
    "    for x in range(9):\n",
    "        grid[y, x] = Tile(y, x)\n"
   ],
   "metadata": {
    "collapsed": false,
    "ExecuteTime": {
     "end_time": "2023-06-05T16:42:51.738735800Z",
     "start_time": "2023-06-05T16:42:51.722743900Z"
    }
   }
  },
  {
   "cell_type": "markdown",
   "source": [
    "# System to display the sudoku grid"
   ],
   "metadata": {
    "collapsed": false
   }
  },
  {
   "cell_type": "code",
   "execution_count": 93,
   "outputs": [],
   "source": [
    "def displayGrid(target):\n",
    "    display = \"\"\n",
    "    for y in range(9):\n",
    "        for x in range(9):\n",
    "            display += (\" \" + str(target[y, x].value) + \" \")\n",
    "        display += \"\\n\"\n",
    "    print(display)\n"
   ],
   "metadata": {
    "collapsed": false,
    "ExecuteTime": {
     "end_time": "2023-06-05T16:42:52.299612300Z",
     "start_time": "2023-06-05T16:42:52.289809100Z"
    }
   }
  },
  {
   "cell_type": "code",
   "execution_count": 101,
   "outputs": [],
   "source": [
    "def validateGrid(target):\n",
    "    for i in range(9):\n",
    "        try:\n",
    "            row_sum = sum([t.value for t in grid[i, :]])\n",
    "            col_sum = sum([t.value for t in grid[:, i]])\n",
    "        except TypeError:\n",
    "            return False\n",
    "        if row_sum != 45 or col_sum != 45:\n",
    "            return False\n",
    "    return True\n"
   ],
   "metadata": {
    "collapsed": false,
    "ExecuteTime": {
     "end_time": "2023-06-05T16:44:16.752699600Z",
     "start_time": "2023-06-05T16:44:16.744529400Z"
    }
   }
  },
  {
   "cell_type": "code",
   "execution_count": 102,
   "outputs": [
    {
     "name": "stdout",
     "output_type": "stream",
     "text": [
      " None  None  None  None  None  None  None  None  None \n",
      " None  None  None  None  None  None  None  None  None \n",
      " None  None  None  None  None  None  None  None  None \n",
      " None  None  None  None  None  None  None  None  None \n",
      " None  None  None  None  None  None  None  None  None \n",
      " None  None  None  None  None  None  None  None  None \n",
      " None  None  None  None  None  None  None  None  None \n",
      " None  None  None  None  None  None  None  None  None \n",
      " None  None  None  None  None  None  None  None  None \n",
      "\n"
     ]
    },
    {
     "data": {
      "text/plain": "False"
     },
     "execution_count": 102,
     "metadata": {},
     "output_type": "execute_result"
    }
   ],
   "source": [
    "displayGrid(grid)\n",
    "validateGrid(grid)"
   ],
   "metadata": {
    "collapsed": false,
    "ExecuteTime": {
     "end_time": "2023-06-05T16:44:17.154026300Z",
     "start_time": "2023-06-05T16:44:17.137865200Z"
    }
   }
  },
  {
   "cell_type": "code",
   "execution_count": null,
   "outputs": [],
   "source": [],
   "metadata": {
    "collapsed": false
   }
  }
 ],
 "metadata": {
  "kernelspec": {
   "display_name": "Python 3",
   "language": "python",
   "name": "python3"
  },
  "language_info": {
   "codemirror_mode": {
    "name": "ipython",
    "version": 2
   },
   "file_extension": ".py",
   "mimetype": "text/x-python",
   "name": "python",
   "nbconvert_exporter": "python",
   "pygments_lexer": "ipython2",
   "version": "2.7.6"
  }
 },
 "nbformat": 4,
 "nbformat_minor": 0
}
