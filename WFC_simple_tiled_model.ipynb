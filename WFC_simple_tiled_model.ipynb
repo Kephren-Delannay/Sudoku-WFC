{
 "cells": [
  {
   "cell_type": "code",
   "execution_count": 685,
   "metadata": {
    "collapsed": true,
    "ExecuteTime": {
     "end_time": "2023-06-14T02:30:15.100466800Z",
     "start_time": "2023-06-14T02:30:15.071468500Z"
    }
   },
   "outputs": [],
   "source": [
    "import numpy as np\n",
    "import random\n",
    "import math\n",
    "from typing import Literal"
   ]
  },
  {
   "cell_type": "code",
   "execution_count": 686,
   "outputs": [],
   "source": [
    "#Types\n",
    "Tile = str\n",
    "Coordinates = tuple[int, int]\n",
    "Up = tuple[Literal[-1], Literal[0]]\n",
    "Down = tuple[Literal[1], Literal[0]]\n",
    "Left = tuple[Literal[0], Literal[-1]]\n",
    "Right = tuple[Literal[0], Literal[1]]\n",
    "Direction = Up | Down | Left | Right\n",
    "Compatibility = tuple[Tile, Tile, Direction]\n",
    "Weights = dict[Tile, int]\n",
    "\n",
    "UP = (-1, 0)\n",
    "DOWN = (1, 0)\n",
    "LEFT = (0, -1)\n",
    "RIGHT = (0, 1)\n",
    "DIRS = [UP, DOWN, LEFT, RIGHT]"
   ],
   "metadata": {
    "collapsed": false,
    "ExecuteTime": {
     "end_time": "2023-06-14T02:30:15.132477700Z",
     "start_time": "2023-06-14T02:30:15.089467Z"
    }
   }
  },
  {
   "cell_type": "markdown",
   "source": [
    "# What we will do in this notebook ?\n",
    "- Parse an input data to create rulesets for tiles\n",
    "- Apply WFC to create a simple tiled version of WFC"
   ],
   "metadata": {
    "collapsed": false
   }
  },
  {
   "cell_type": "code",
   "execution_count": 687,
   "outputs": [],
   "source": [
    "class Cell:\n",
    "\n",
    "    def __init__(self, pos, options: set[Tile]):\n",
    "        self.position = pos # position is given as a (y, x) tuple\n",
    "        self.options = options # list of possible options available\n",
    "        self.collapsed = False # collapsed state of the cell\n",
    "        self.value = None # chosen option for this cell\n",
    "\n",
    "    def __repr__(self):\n",
    "        return f'tile {self.position} \\n' \\\n",
    "               f'options : {[i for i in self.options]} \\n' \\\n",
    "               f'value : {self.value} \\n' \\\n",
    "               f'collapsed : {self.collapsed} \\n'\n",
    "\n",
    "    def collapse(self, choice):\n",
    "        self.value = choice\n",
    "        self.collapsed = True\n",
    "\n",
    "    def constrain(self, forbidden:Tile):\n",
    "        self.options.remove(forbidden)\n",
    "\n"
   ],
   "metadata": {
    "collapsed": false,
    "ExecuteTime": {
     "end_time": "2023-06-14T02:30:15.133479600Z",
     "start_time": "2023-06-14T02:30:15.105468400Z"
    }
   }
  },
  {
   "cell_type": "markdown",
   "source": [
    "# Parsing\n",
    "- Looking at every possible combinations in a NxN grid\n",
    "- Returns a list of possible rules\n",
    "\n",
    "Rules are represented by a three element tuple : (elem1, elem2, direction)\n",
    "Each rule should come with its counterpart from the other side"
   ],
   "metadata": {
    "collapsed": false
   }
  },
  {
   "cell_type": "code",
   "execution_count": 688,
   "outputs": [],
   "source": [
    "input_matrix = np.array([\n",
    "    ['L','L','L','L'],\n",
    "    ['L','L','L','L'],\n",
    "    ['L','L','L','L'],\n",
    "    ['L','C','C','L'],\n",
    "    ['C','S','S','C'],\n",
    "    ['S','S','S','S'],\n",
    "    ['S','S','S','S'],\n",
    "], dtype=Tile)"
   ],
   "metadata": {
    "collapsed": false,
    "ExecuteTime": {
     "end_time": "2023-06-14T02:30:15.135991500Z",
     "start_time": "2023-06-14T02:30:15.120480400Z"
    }
   }
  },
  {
   "cell_type": "code",
   "execution_count": 689,
   "outputs": [],
   "source": [
    "def valid_dirs(cur_coords:Coordinates, matrix_size:tuple[int, int]) -> list[Direction]:\n",
    "    \"\"\"\n",
    "    Returns the valid directions from `cur_co_ord` in a matrix\n",
    "    of `matrix_size`. Ensures that we don't try to take step to the\n",
    "    left when we are already on the left edge of the matrix.\n",
    "    :param cur_coords: the current coords\n",
    "    :param matrix_size: the size of the matrix\n",
    "    :return: a list of possible directions\n",
    "    \"\"\"\n",
    "    y, x = cur_coords\n",
    "    dirs : list[Coordinates] = []\n",
    "    height, width = matrix_size\n",
    "\n",
    "    if y > 0: dirs.append(UP)\n",
    "    if y < height - 1 : dirs.append(DOWN)\n",
    "    if x > 0: dirs.append(LEFT)\n",
    "    if x < width - 1 : dirs.append(RIGHT)\n",
    "\n",
    "    return dirs\n"
   ],
   "metadata": {
    "collapsed": false,
    "ExecuteTime": {
     "end_time": "2023-06-14T02:30:15.149004500Z",
     "start_time": "2023-06-14T02:30:15.136993100Z"
    }
   }
  },
  {
   "cell_type": "code",
   "execution_count": 690,
   "outputs": [],
   "source": [
    "def parseExampleMatrix(matrix: np.ndarray) -> tuple[Weights, set[Compatibility], list[Tile]]:\n",
    "    \"\"\"\n",
    "    Parses an example matrix. It extracts :\n",
    "    1. Tile compatibilities\n",
    "    2. The weight of each tile type\n",
    "\n",
    "    :param matrix: a 2D matrix of tiles\n",
    "    :return: A tuple :\n",
    "        * A set of compatible tile combinations\n",
    "        * A dict of weights for each tile type\n",
    "    \"\"\"\n",
    "    compatibilities : set[Compatibility] = set()\n",
    "    weights: Weights = {}\n",
    "    options = list(set(input_matrix.flatten()))\n",
    "\n",
    "    for y, row in enumerate(matrix):\n",
    "        for x, cur_tile in enumerate(row):\n",
    "            if cur_tile not in weights:\n",
    "                weights[cur_tile] = 0\n",
    "            weights[cur_tile] += 1\n",
    "\n",
    "            for d in valid_dirs((y, x), matrix.shape):\n",
    "                other = matrix[y+d[0], x+d[1]]\n",
    "                compatibilities.add((cur_tile, other, d)) # Tile1, Tile2, Direction relative\n",
    "\n",
    "    return weights, compatibilities, options"
   ],
   "metadata": {
    "collapsed": false,
    "ExecuteTime": {
     "end_time": "2023-06-14T02:30:15.173558300Z",
     "start_time": "2023-06-14T02:30:15.153003100Z"
    }
   }
  },
  {
   "cell_type": "code",
   "execution_count": 691,
   "outputs": [
    {
     "data": {
      "text/plain": "({'L': 14, 'C': 4, 'S': 10},\n {('C', 'C', (0, -1)),\n  ('C', 'C', (0, 1)),\n  ('C', 'L', (-1, 0)),\n  ('C', 'L', (0, -1)),\n  ('C', 'L', (0, 1)),\n  ('C', 'S', (0, -1)),\n  ('C', 'S', (0, 1)),\n  ('C', 'S', (1, 0)),\n  ('L', 'C', (0, -1)),\n  ('L', 'C', (0, 1)),\n  ('L', 'C', (1, 0)),\n  ('L', 'L', (-1, 0)),\n  ('L', 'L', (0, -1)),\n  ('L', 'L', (0, 1)),\n  ('L', 'L', (1, 0)),\n  ('S', 'C', (-1, 0)),\n  ('S', 'C', (0, -1)),\n  ('S', 'C', (0, 1)),\n  ('S', 'S', (-1, 0)),\n  ('S', 'S', (0, -1)),\n  ('S', 'S', (0, 1)),\n  ('S', 'S', (1, 0))},\n ['C', 'L', 'S'])"
     },
     "execution_count": 691,
     "metadata": {},
     "output_type": "execute_result"
    }
   ],
   "source": [
    "parseExampleMatrix(input_matrix)"
   ],
   "metadata": {
    "collapsed": false,
    "ExecuteTime": {
     "end_time": "2023-06-14T02:30:15.181565200Z",
     "start_time": "2023-06-14T02:30:15.168565400Z"
    }
   }
  },
  {
   "cell_type": "markdown",
   "source": [
    "# WaveFunction class\n",
    "This class is responsible for handling the output grid"
   ],
   "metadata": {
    "collapsed": false
   }
  },
  {
   "cell_type": "code",
   "execution_count": 692,
   "outputs": [],
   "source": [
    "class WaveFunction:\n",
    "\n",
    "    def __init__(self, size:tuple[int, int], options, weights):\n",
    "        self.grid = np.empty(shape = size, dtype=Cell)\n",
    "        self.size = size\n",
    "        self.weights: Weights = weights\n",
    "        for _y in range(size[0]):\n",
    "            for _x in range(size[1]):\n",
    "                self.grid[_y, _x] = Cell((_y, _x), options)\n",
    "\n",
    "    def __repr__(self):\n",
    "        display = f\"\"\n",
    "        for _y in range(self.size[0]):\n",
    "            for _x in range(self.size[1]):\n",
    "                display += f\" {str(self.grid[_y, _x].value):>4} \"\n",
    "            display += \"\\n\"\n",
    "\n",
    "        return display\n",
    "\n",
    "    def getEntropyAtCoords(self, coords:Coordinates):\n",
    "        weights_sum = sum([self.weights[w] for w in self.grid[coords].options])\n",
    "        weights_log_sum = sum([self.weights[w] +\n",
    "                               math.log(self.weights[w])\n",
    "                               for w in self.grid[coords].options])\n",
    "        return math.log(weights_sum) - (weights_log_sum / weights_sum)\n",
    "\n",
    "    def getMinEntropyCoords(self):\n",
    "        min_entropy_coords: Coordinates = (0,0)\n",
    "        min_entropy = None\n",
    "        for y, row in enumerate(self.grid):\n",
    "            for x, cell in enumerate(row):\n",
    "                if self.grid[y, x].collapsed:\n",
    "                    continue\n",
    "                entropy = self.getEntropyAtCoords((y, x))\n",
    "                # Add some noise\n",
    "                entropy += (random.random() / 1000)\n",
    "                if min_entropy is None or entropy < min_entropy :\n",
    "                    min_entropy = entropy\n",
    "                    min_entropy_coords = (y, x)\n",
    "\n",
    "        return min_entropy_coords\n",
    "\n",
    "    def collapseCellAtCoords(self, coords:Coordinates):\n",
    "        cell:Cell = self.grid[coords]\n",
    "        weighted_seq = [weight for (item, weight) in wfc.weights.items() if item in cell.options]\n",
    "        choice = random.choices(list(cell.options), weighted_seq)\n",
    "        cell.collapse(choice[0])\n",
    "\n",
    "\n",
    "    def propagate(self):\n",
    "        pass\n",
    "\n",
    "    def getStateOfGrid(self):\n",
    "        pass\n"
   ],
   "metadata": {
    "collapsed": false,
    "ExecuteTime": {
     "end_time": "2023-06-14T02:30:15.225921200Z",
     "start_time": "2023-06-14T02:30:15.187568300Z"
    }
   }
  },
  {
   "cell_type": "markdown",
   "source": [
    "# Test Zone"
   ],
   "metadata": {
    "collapsed": false
   }
  },
  {
   "cell_type": "code",
   "execution_count": 693,
   "outputs": [],
   "source": [
    "class Model:\n",
    "\n",
    "    def __init__(self, output_size, input_matrix):\n",
    "        self.weights, self.compatibilities, self.options = parseExampleMatrix(input_matrix)\n",
    "        self.wfc = WaveFunction(output_size, self.options, self.weights)"
   ],
   "metadata": {
    "collapsed": false,
    "ExecuteTime": {
     "end_time": "2023-06-14T02:30:15.235436900Z",
     "start_time": "2023-06-14T02:30:15.197673600Z"
    }
   }
  },
  {
   "cell_type": "markdown",
   "source": [],
   "metadata": {
    "collapsed": false
   }
  },
  {
   "cell_type": "code",
   "execution_count": 694,
   "outputs": [],
   "source": [
    "m = Model((3,3), input_matrix)"
   ],
   "metadata": {
    "collapsed": false,
    "ExecuteTime": {
     "end_time": "2023-06-14T02:30:35.550900Z",
     "start_time": "2023-06-14T02:30:35.534378300Z"
    }
   }
  }
 ],
 "metadata": {
  "kernelspec": {
   "display_name": "Python 3",
   "language": "python",
   "name": "python3"
  },
  "language_info": {
   "codemirror_mode": {
    "name": "ipython",
    "version": 2
   },
   "file_extension": ".py",
   "mimetype": "text/x-python",
   "name": "python",
   "nbconvert_exporter": "python",
   "pygments_lexer": "ipython2",
   "version": "2.7.6"
  }
 },
 "nbformat": 4,
 "nbformat_minor": 0
}
