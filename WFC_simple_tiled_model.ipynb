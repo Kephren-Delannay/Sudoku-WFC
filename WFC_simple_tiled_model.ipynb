{
 "cells": [
  {
   "cell_type": "code",
   "execution_count": 283,
   "metadata": {
    "collapsed": true,
    "ExecuteTime": {
     "end_time": "2023-06-14T01:56:46.411583Z",
     "start_time": "2023-06-14T01:56:46.386583400Z"
    }
   },
   "outputs": [],
   "source": [
    "import numpy as np\n",
    "import random\n",
    "import math\n",
    "from typing import Literal"
   ]
  },
  {
   "cell_type": "code",
   "execution_count": 284,
   "outputs": [],
   "source": [
    "#Types\n",
    "Tile = str\n",
    "Coordinates = tuple[int, int]\n",
    "Up = tuple[Literal[-1], Literal[0]]\n",
    "Down = tuple[Literal[1], Literal[0]]\n",
    "Left = tuple[Literal[0], Literal[-1]]\n",
    "Right = tuple[Literal[0], Literal[1]]\n",
    "Direction = Up | Down | Left | Right\n",
    "Compatibility = tuple[Tile, Tile, Direction]\n",
    "Weights = dict[Tile, int]\n",
    "\n",
    "UP = (-1, 0)\n",
    "DOWN = (1, 0)\n",
    "LEFT = (0, -1)\n",
    "RIGHT = (0, 1)\n",
    "DIRS = [UP, DOWN, LEFT, RIGHT]"
   ],
   "metadata": {
    "collapsed": false,
    "ExecuteTime": {
     "end_time": "2023-06-14T01:56:46.452098500Z",
     "start_time": "2023-06-14T01:56:46.405585300Z"
    }
   }
  },
  {
   "cell_type": "markdown",
   "source": [
    "# What we will do in this notebook ?\n",
    "- Parse an input data to create rulesets for tiles\n",
    "- Apply WFC to create a simple tiled version of WFC"
   ],
   "metadata": {
    "collapsed": false
   }
  },
  {
   "cell_type": "code",
   "execution_count": 285,
   "outputs": [],
   "source": [
    "class Cell:\n",
    "\n",
    "    def __init__(self, pos, options: set[Tile]):\n",
    "        self.position = pos # position is given as a (y, x) tuple\n",
    "        self.options = options # list of possible options available\n",
    "        self.collapsed = False # collapsed state of the cell\n",
    "        self.value = None # chosen option for this cell\n",
    "\n",
    "    def __repr__(self):\n",
    "        return f'tile {self.position} \\n' \\\n",
    "               f'options : {[i for i in self.options]} \\n' \\\n",
    "               f'value : {self.value} \\n' \\\n",
    "               f'collapsed : {self.collapsed} \\n'\n",
    "\n",
    "    def collapse(self):\n",
    "        pass\n",
    "\n",
    "    def updateOptions(self):\n",
    "        pass\n",
    "\n",
    "    def __le__(self, other):\n",
    "        return self.entropy() < other.entropy()\n",
    "\n",
    "    def __eq__(self, other):\n",
    "        return self.entropy() == other.entropy()\n",
    "\n",
    "    def __gt__(self, other):\n",
    "        return self.entropy() > other.entropy()\n"
   ],
   "metadata": {
    "collapsed": false,
    "ExecuteTime": {
     "end_time": "2023-06-14T01:56:46.454099600Z",
     "start_time": "2023-06-14T01:56:46.420584200Z"
    }
   }
  },
  {
   "cell_type": "markdown",
   "source": [
    "# Parsing\n",
    "- Looking at every possible combinations in a NxN grid\n",
    "- Returns a list of possible rules\n",
    "\n",
    "Rules are represented by a three element tuple : (elem1, elem2, direction)\n",
    "Each rule should come with its counterpart from the other side"
   ],
   "metadata": {
    "collapsed": false
   }
  },
  {
   "cell_type": "code",
   "execution_count": 286,
   "outputs": [],
   "source": [
    "input_matrix = np.array([\n",
    "    ['L','L','L','L'],\n",
    "    ['L','L','L','L'],\n",
    "    ['L','L','L','L'],\n",
    "    ['L','C','C','L'],\n",
    "    ['C','S','S','C'],\n",
    "    ['S','S','S','S'],\n",
    "    ['S','S','S','S'],\n",
    "], dtype=Tile)"
   ],
   "metadata": {
    "collapsed": false,
    "ExecuteTime": {
     "end_time": "2023-06-14T01:56:46.454099600Z",
     "start_time": "2023-06-14T01:56:46.435589400Z"
    }
   }
  },
  {
   "cell_type": "code",
   "execution_count": 287,
   "outputs": [],
   "source": [
    "def valid_dirs(cur_coords:Coordinates, matrix_size:tuple[int, int]) -> list[Direction]:\n",
    "    \"\"\"\n",
    "    Returns the valid directions from `cur_co_ord` in a matrix\n",
    "    of `matrix_size`. Ensures that we don't try to take step to the\n",
    "    left when we are already on the left edge of the matrix.\n",
    "    :param cur_coords: the current coords\n",
    "    :param matrix_size: the size of the matrix\n",
    "    :return: a list of possible directions\n",
    "    \"\"\"\n",
    "    y, x = cur_coords\n",
    "    dirs : list[Coordinates] = []\n",
    "    height, width = matrix_size\n",
    "\n",
    "    if y > 0: dirs.append(UP)\n",
    "    if y < height - 1 : dirs.append(DOWN)\n",
    "    if x > 0: dirs.append(LEFT)\n",
    "    if x < width - 1 : dirs.append(RIGHT)\n",
    "\n",
    "    return dirs\n"
   ],
   "metadata": {
    "collapsed": false,
    "ExecuteTime": {
     "end_time": "2023-06-14T01:56:46.465118500Z",
     "start_time": "2023-06-14T01:56:46.453096300Z"
    }
   }
  },
  {
   "cell_type": "code",
   "execution_count": 288,
   "outputs": [],
   "source": [
    "def parseExampleMatrix(matrix: np.ndarray) -> tuple[Weights, set[Compatibility]]:\n",
    "    \"\"\"\n",
    "    Parses an example matrix. It extracts :\n",
    "    1. Tile compatibilities\n",
    "    2. The weight of each tile type\n",
    "\n",
    "    :param matrix: a 2D matrix of tiles\n",
    "    :return: A tuple :\n",
    "        * A set of compatible tile combinations\n",
    "        * A dict of weights for each tile type\n",
    "    \"\"\"\n",
    "    compatibilities : set[Compatibility] = set()\n",
    "    weights: Weights = {}\n",
    "\n",
    "    for y, row in enumerate(matrix):\n",
    "        for x, cur_tile in enumerate(row):\n",
    "            if cur_tile not in weights:\n",
    "                weights[cur_tile] = 0\n",
    "            weights[cur_tile] += 1\n",
    "\n",
    "            for d in valid_dirs((y, x), matrix.shape):\n",
    "                other = matrix[y+d[0], x+d[1]]\n",
    "                compatibilities.add((cur_tile, other, d)) # Tile1, Tile2, Direction relative\n",
    "\n",
    "    return weights, compatibilities"
   ],
   "metadata": {
    "collapsed": false,
    "ExecuteTime": {
     "end_time": "2023-06-14T01:56:46.495328900Z",
     "start_time": "2023-06-14T01:56:46.468116300Z"
    }
   }
  },
  {
   "cell_type": "code",
   "execution_count": 289,
   "outputs": [
    {
     "data": {
      "text/plain": "({'L': 14, 'C': 4, 'S': 10},\n {('C', 'C', (0, -1)),\n  ('C', 'C', (0, 1)),\n  ('C', 'L', (-1, 0)),\n  ('C', 'L', (0, -1)),\n  ('C', 'L', (0, 1)),\n  ('C', 'S', (0, -1)),\n  ('C', 'S', (0, 1)),\n  ('C', 'S', (1, 0)),\n  ('L', 'C', (0, -1)),\n  ('L', 'C', (0, 1)),\n  ('L', 'C', (1, 0)),\n  ('L', 'L', (-1, 0)),\n  ('L', 'L', (0, -1)),\n  ('L', 'L', (0, 1)),\n  ('L', 'L', (1, 0)),\n  ('S', 'C', (-1, 0)),\n  ('S', 'C', (0, -1)),\n  ('S', 'C', (0, 1)),\n  ('S', 'S', (-1, 0)),\n  ('S', 'S', (0, -1)),\n  ('S', 'S', (0, 1)),\n  ('S', 'S', (1, 0))})"
     },
     "execution_count": 289,
     "metadata": {},
     "output_type": "execute_result"
    }
   ],
   "source": [
    "parseExampleMatrix(input_matrix)"
   ],
   "metadata": {
    "collapsed": false,
    "ExecuteTime": {
     "end_time": "2023-06-14T01:56:46.495328900Z",
     "start_time": "2023-06-14T01:56:46.482328200Z"
    }
   }
  },
  {
   "cell_type": "markdown",
   "source": [
    "# WaveFunction class\n",
    "This class is responsible for handling the output grid"
   ],
   "metadata": {
    "collapsed": false
   }
  },
  {
   "cell_type": "code",
   "execution_count": 290,
   "outputs": [],
   "source": [
    "class WaveFunction:\n",
    "\n",
    "    def __init__(self, size:tuple[int, int], options, weights):\n",
    "        self.grid = np.empty(shape = size, dtype=Cell)\n",
    "        self.size = size\n",
    "        self.weights: Weights = weights\n",
    "        for _y in range(size[0]):\n",
    "            for _x in range(size[1]):\n",
    "                self.grid[_y, _x] = Cell((_y, _x), options)\n",
    "\n",
    "    def __repr__(self):\n",
    "        display = f\"\"\n",
    "        for _y in range(self.size[0]):\n",
    "            for _x in range(self.size[1]):\n",
    "                display += f\" {self.grid[_y, _x].value} \"\n",
    "            display += \"\\n\"\n",
    "\n",
    "        return display\n",
    "\n",
    "    def getEntropyAtCoords(self, coords:Coordinates):\n",
    "        weights_sum = sum([self.weights[w] for w in self.grid[coords].options])\n",
    "        weights_log_sum = sum([self.weights[w] +\n",
    "                               math.log(self.weights[w])\n",
    "                               for w in self.grid[coords].options])\n",
    "        return math.log(weights_sum) - (weights_log_sum / weights_sum)\n",
    "\n",
    "    def getMinEntropyCel(self):\n",
    "        min_entropy_coords: Coordinates = (0,0)\n",
    "        min_entropy = None\n",
    "        for y, row in enumerate(self.grid):\n",
    "            for x, cell in enumerate(row):\n",
    "                if self.grid[y, x].collapsed:\n",
    "                    continue\n",
    "                entropy = self.getEntropyAtCoords((y, x))\n",
    "                # Add some noise\n",
    "                entropy += (random.random() / 1000)\n",
    "                if min_entropy is None or entropy < min_entropy :\n",
    "                    min_entropy = entropy\n",
    "                    min_entropy_coords = (y, x)\n",
    "\n",
    "        return min_entropy_coords\n",
    "\n",
    "\n",
    "    def propagate(self):\n",
    "        pass\n",
    "\n",
    "    def getStateOfGrid(self):\n",
    "        pass\n"
   ],
   "metadata": {
    "collapsed": false,
    "ExecuteTime": {
     "end_time": "2023-06-14T01:56:46.511329Z",
     "start_time": "2023-06-14T01:56:46.501327100Z"
    }
   }
  },
  {
   "cell_type": "code",
   "execution_count": 291,
   "outputs": [],
   "source": [
    "weights, comp = parseExampleMatrix(input_matrix)\n",
    "options = ['L', 'C', 'S']"
   ],
   "metadata": {
    "collapsed": false,
    "ExecuteTime": {
     "end_time": "2023-06-14T01:56:46.555177300Z",
     "start_time": "2023-06-14T01:56:46.513327200Z"
    }
   }
  },
  {
   "cell_type": "code",
   "execution_count": 292,
   "outputs": [],
   "source": [
    "wfc = WaveFunction((3, 3), options, weights)"
   ],
   "metadata": {
    "collapsed": false,
    "ExecuteTime": {
     "end_time": "2023-06-14T01:56:46.563180Z",
     "start_time": "2023-06-14T01:56:46.527338400Z"
    }
   }
  },
  {
   "cell_type": "code",
   "execution_count": 293,
   "outputs": [
    {
     "data": {
      "text/plain": "2.106206767899161"
     },
     "execution_count": 293,
     "metadata": {},
     "output_type": "execute_result"
    }
   ],
   "source": [
    "wfc.getEntropyAtCoords((0,2))"
   ],
   "metadata": {
    "collapsed": false,
    "ExecuteTime": {
     "end_time": "2023-06-14T01:56:46.563180Z",
     "start_time": "2023-06-14T01:56:46.542349800Z"
    }
   }
  },
  {
   "cell_type": "code",
   "execution_count": 294,
   "outputs": [
    {
     "data": {
      "text/plain": "(0, 2)"
     },
     "execution_count": 294,
     "metadata": {},
     "output_type": "execute_result"
    }
   ],
   "source": [
    "wfc.getMinEntropyCel()"
   ],
   "metadata": {
    "collapsed": false,
    "ExecuteTime": {
     "end_time": "2023-06-14T01:56:46.573192400Z",
     "start_time": "2023-06-14T01:56:46.559182Z"
    }
   }
  },
  {
   "cell_type": "markdown",
   "source": [],
   "metadata": {
    "collapsed": false
   }
  }
 ],
 "metadata": {
  "kernelspec": {
   "display_name": "Python 3",
   "language": "python",
   "name": "python3"
  },
  "language_info": {
   "codemirror_mode": {
    "name": "ipython",
    "version": 2
   },
   "file_extension": ".py",
   "mimetype": "text/x-python",
   "name": "python",
   "nbconvert_exporter": "python",
   "pygments_lexer": "ipython2",
   "version": "2.7.6"
  }
 },
 "nbformat": 4,
 "nbformat_minor": 0
}
