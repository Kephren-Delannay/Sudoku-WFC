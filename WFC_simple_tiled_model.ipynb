{
 "cells": [
  {
   "cell_type": "code",
   "execution_count": 73,
   "metadata": {
    "collapsed": true,
    "ExecuteTime": {
     "end_time": "2023-06-13T23:26:59.446855900Z",
     "start_time": "2023-06-13T23:26:59.435852800Z"
    }
   },
   "outputs": [],
   "source": [
    "import numpy as np\n",
    "import random\n",
    "from typing import Literal"
   ]
  },
  {
   "cell_type": "code",
   "execution_count": 74,
   "outputs": [],
   "source": [
    "#Types\n",
    "Tile = str\n",
    "Coordinates = tuple[int, int]\n",
    "Up = tuple[Literal[1], Literal[0]]\n",
    "Down = tuple[Literal[-1], Literal[0]]\n",
    "Left = tuple[Literal[0], Literal[-1]]\n",
    "Right = tuple[Literal[0], Literal[1]]\n",
    "Direction = Up | Down | Left | Right\n",
    "Compatibility = tuple[Tile, Tile, Direction]\n",
    "Weights = dict[Tile, int]\n",
    "\n",
    "UP = (-1, 0)\n",
    "DOWN = (1, 0)\n",
    "LEFT = (0, -1)\n",
    "RIGHT = (0, 1)\n",
    "DIRS = [UP, DOWN, LEFT, RIGHT]"
   ],
   "metadata": {
    "collapsed": false,
    "ExecuteTime": {
     "end_time": "2023-06-13T23:26:59.488373700Z",
     "start_time": "2023-06-13T23:26:59.446855900Z"
    }
   }
  },
  {
   "cell_type": "markdown",
   "source": [
    "# What we will do in this notebook ?\n",
    "- Parse an input data to create rulesets for tiles\n",
    "- Apply WFC to create a simple tiled version of WFC"
   ],
   "metadata": {
    "collapsed": false
   }
  },
  {
   "cell_type": "code",
   "execution_count": 75,
   "outputs": [],
   "source": [
    "class Cell:\n",
    "\n",
    "    def __init__(self, pos, options):\n",
    "        self.position = pos # position is given as a (y, x) tuple\n",
    "        self.options = options # list of possible options available\n",
    "        self.collapsed = False # collapsed state of the cell\n",
    "        self.value = None # chosen option for this cell\n",
    "\n",
    "    def __repr__(self):\n",
    "        return f'tile {self.position} \\n' \\\n",
    "               f'options : {[i for i in self.options]} \\n' \\\n",
    "               f'value : {self.value} \\n' \\\n",
    "               f'collapsed : {self.collapsed} \\n'\n",
    "\n",
    "    def enthropy(self):\n",
    "        pass\n",
    "\n",
    "    def collapse(self):\n",
    "        pass\n",
    "\n",
    "    def updateOptions(self):\n",
    "        pass\n",
    "\n",
    "    def __le__(self, other):\n",
    "        return self.enthropy() < other.enthropy()\n",
    "\n",
    "    def __eq__(self, other):\n",
    "        return self.enthropy() == other.enthropy()\n",
    "\n",
    "    def __gt__(self, other):\n",
    "        return self.enthropy() > other.enthropy()\n"
   ],
   "metadata": {
    "collapsed": false,
    "ExecuteTime": {
     "end_time": "2023-06-13T23:26:59.499374900Z",
     "start_time": "2023-06-13T23:26:59.461373200Z"
    }
   }
  },
  {
   "cell_type": "markdown",
   "source": [
    "# Parsing\n",
    "- Looking at every possible combinations in a NxN grid\n",
    "- Returns a list of possible rules\n",
    "\n",
    "Rules are represented by a three element tuple : (elem1, elem2, direction)\n",
    "Each rule should come with its counterpart from the other side"
   ],
   "metadata": {
    "collapsed": false
   }
  },
  {
   "cell_type": "code",
   "execution_count": 76,
   "outputs": [],
   "source": [
    "input_matrix = np.array([\n",
    "    ['L','L','L','L'],\n",
    "    ['L','L','L','L'],\n",
    "    ['L','L','L','L'],\n",
    "    ['L','C','C','L'],\n",
    "    ['C','S','S','C'],\n",
    "    ['S','S','S','S'],\n",
    "    ['S','S','S','S'],\n",
    "], dtype=Tile)"
   ],
   "metadata": {
    "collapsed": false,
    "ExecuteTime": {
     "end_time": "2023-06-13T23:26:59.500374Z",
     "start_time": "2023-06-13T23:26:59.475374400Z"
    }
   }
  },
  {
   "cell_type": "code",
   "execution_count": 77,
   "outputs": [],
   "source": [
    "def valid_dirs(cur_coords:Coordinates, matrix_size:tuple[int, int]) -> list[Direction]:\n",
    "    \"\"\"\n",
    "    Returns the valid directions from `cur_co_ord` in a matrix\n",
    "    of `matrix_size`. Ensures that we don't try to take step to the\n",
    "    left when we are already on the left edge of the matrix.\n",
    "    :param cur_coords: the current coords\n",
    "    :param matrix_size: the size of the matrix\n",
    "    :return: a list of possible directions\n",
    "    \"\"\"\n",
    "    y, x = cur_coords\n",
    "    dirs : list[Coordinates] = []\n",
    "    height, width = matrix_size\n",
    "\n",
    "    if y > 0: dirs.append(UP)\n",
    "    if y < height - 1 : dirs.append(DOWN)\n",
    "    if x > 0: dirs.append(LEFT)\n",
    "    if x < width - 1 : dirs.append(RIGHT)\n",
    "\n",
    "    return dirs\n"
   ],
   "metadata": {
    "collapsed": false,
    "ExecuteTime": {
     "end_time": "2023-06-13T23:26:59.506374Z",
     "start_time": "2023-06-13T23:26:59.494373800Z"
    }
   }
  },
  {
   "cell_type": "code",
   "execution_count": 88,
   "outputs": [],
   "source": [
    "def parseExemple_Matrix(matrix: np.ndarray):\n",
    "    \"\"\"\n",
    "    Parses an example matrix. It extracts :\n",
    "    1. Tile compatibilities\n",
    "    2. The weight of each tile type\n",
    "\n",
    "    :param matrix: a 2D matrix of tiles\n",
    "    :return: A tuple :\n",
    "        * A set of compatible tile combinations\n",
    "        * A dict of weights for each tile type\n",
    "    \"\"\"\n",
    "    compatibilities : set[Compatibility] = set()\n",
    "\n",
    "    for y, row in enumerate(matrix):\n",
    "        for x, elem in enumerate(row):\n",
    "            #print(y, x, valid_dirs((y, x), matrix.shape))\n",
    "            for d in valid_dirs((y, x), matrix.shape):\n",
    "                other = matrix[y+d[0], x+d[1]]\n",
    "                compatibilities.add((elem, other, d)) # Tile1, Tile2, Direction\n",
    "\n",
    "    return compatibilities"
   ],
   "metadata": {
    "collapsed": false,
    "ExecuteTime": {
     "end_time": "2023-06-13T23:27:47.440066600Z",
     "start_time": "2023-06-13T23:27:47.435071300Z"
    }
   }
  },
  {
   "cell_type": "code",
   "execution_count": 89,
   "outputs": [
    {
     "data": {
      "text/plain": "{('C', 'C', (0, -1)),\n ('C', 'C', (0, 1)),\n ('C', 'L', (-1, 0)),\n ('C', 'L', (0, -1)),\n ('C', 'L', (0, 1)),\n ('C', 'S', (0, -1)),\n ('C', 'S', (0, 1)),\n ('C', 'S', (1, 0)),\n ('L', 'C', (0, -1)),\n ('L', 'C', (0, 1)),\n ('L', 'C', (1, 0)),\n ('L', 'L', (-1, 0)),\n ('L', 'L', (0, -1)),\n ('L', 'L', (0, 1)),\n ('L', 'L', (1, 0)),\n ('S', 'C', (-1, 0)),\n ('S', 'C', (0, -1)),\n ('S', 'C', (0, 1)),\n ('S', 'S', (-1, 0)),\n ('S', 'S', (0, -1)),\n ('S', 'S', (0, 1)),\n ('S', 'S', (1, 0))}"
     },
     "execution_count": 89,
     "metadata": {},
     "output_type": "execute_result"
    }
   ],
   "source": [
    "parseExemple_Matrix(input_matrix)"
   ],
   "metadata": {
    "collapsed": false,
    "ExecuteTime": {
     "end_time": "2023-06-13T23:27:47.856390400Z",
     "start_time": "2023-06-13T23:27:47.840715Z"
    }
   }
  }
 ],
 "metadata": {
  "kernelspec": {
   "display_name": "Python 3",
   "language": "python",
   "name": "python3"
  },
  "language_info": {
   "codemirror_mode": {
    "name": "ipython",
    "version": 2
   },
   "file_extension": ".py",
   "mimetype": "text/x-python",
   "name": "python",
   "nbconvert_exporter": "python",
   "pygments_lexer": "ipython2",
   "version": "2.7.6"
  }
 },
 "nbformat": 4,
 "nbformat_minor": 0
}
